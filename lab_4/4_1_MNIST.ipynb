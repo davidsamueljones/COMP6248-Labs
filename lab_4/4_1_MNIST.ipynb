{
 "cells": [
  {
   "cell_type": "markdown",
   "metadata": {
    "deletable": false,
    "editable": false,
    "nbgrader": {
     "checksum": "ad4e1f1c44a179ed18fcbc9e14165c26",
     "grade": false,
     "grade_id": "cell-9216a80c9a082b4f",
     "locked": true,
     "schema_version": 1,
     "solution": false
    }
   },
   "source": [
    "# Part 1: Introducing MNIST"
   ]
  },
  {
   "cell_type": "code",
   "execution_count": 5,
   "metadata": {},
   "outputs": [
    {
     "name": "stdout",
     "output_type": "stream",
     "text": "Collecting torchbearer\n  Downloading torchbearer-0.5.3-py3-none-any.whl (138 kB)\nCollecting tqdm\n  Downloading tqdm-4.43.0-py2.py3-none-any.whl (59 kB)\nRequirement already satisfied: torch>=1.0.0 in c:\\dsj\\deep_learning\\labs\\env\\lib\\site-packages (from torchbearer) (1.4.0+cpu)\nRequirement already satisfied: numpy in c:\\dsj\\deep_learning\\labs\\env\\lib\\site-packages (from torchbearer) (1.18.1)\nInstalling collected packages: tqdm, torchbearer\nSuccessfully installed torchbearer-0.5.3 tqdm-4.43.0\n"
    }
   ],
   "source": [
    "# Execute this code block to install dependencies when running on colab\n",
    "try:\n",
    "    import torch\n",
    "except:\n",
    "    from os.path import exists\n",
    "    from wheel.pep425tags import get_abbr_impl, get_impl_ver, get_abi_tag\n",
    "    platform = '{}{}-{}'.format(get_abbr_impl(), get_impl_ver(), get_abi_tag())\n",
    "    cuda_output = !ldconfig -p|grep cudart.so|sed -e 's/.*\\.\\([0-9]*\\)\\.\\([0-9]*\\)$/cu\\1\\2/'\n",
    "    accelerator = cuda_output[0] if exists('/dev/nvidia0') else 'cpu'\n",
    "\n",
    "    !pip install -q http://download.pytorch.org/whl/{accelerator}/torch-1.0.0-{platform}-linux_x86_64.whl torchvision\n",
    "\n",
    "try: \n",
    "    import torchbearer\n",
    "except:\n",
    "    !pip install torchbearer"
   ]
  },
  {
   "cell_type": "markdown",
   "metadata": {
    "deletable": false,
    "editable": false,
    "nbgrader": {
     "checksum": "c7a46ba0ef59b39a9ed72a11f852d87c",
     "grade": false,
     "grade_id": "cell-df416ad322f1ef99",
     "locked": true,
     "schema_version": 1,
     "solution": false
    }
   },
   "source": [
    "## The MNIST Dataset\n",
    "\n",
    "MNIST is a dataset developed by Yann LeCun, Corinna Cortes and Christopher Burges for evaluating machine learning models on the handwritten digit classification problem.\n",
    "\n",
    "The dataset was constructed from a number of scanned document dataset available from the National Institute of Standards and Technology (NIST). This is where the name for the dataset comes from, as the Modified NIST or MNIST dataset.\n",
    "\n",
    "Images of digits were taken from a variety of scanned documents, normalized in size and centred. This makes it an excellent dataset for evaluating models, allowing the developer to focus on the machine learning with very little data cleaning or preparation required.\n",
    "\n",
    "Each image is a 28 by 28 pixel square (784 pixels total). A standard spit of the dataset is used to evaluate and compare models, where 60,000 images are used to train a model and a separate set of 10,000 images are used to test it.\n",
    "\n",
    "It is a digit recognition task. As such there are 10 digits (0 to 9) or 10 classes to predict. Results are reported using prediction error, which is nothing more than the inverted classification accuracy.\n",
    "\n",
    "Excellent results achieve a prediction error of less than 1%. State-of-the-art prediction error of approximately 0.2% can be achieved with large Convolutional Neural Networks. There is a listing of the state-of-the-art results and links to the relevant papers on the MNIST and other datasets on [Rodrigo Benenson’s webpage](http://rodrigob.github.io/are_we_there_yet/build/classification_datasets_results.html#4d4e495354)."
   ]
  },
  {
   "cell_type": "markdown",
   "metadata": {
    "deletable": false,
    "editable": false,
    "nbgrader": {
     "checksum": "36f9b9e50cb8bcfebb039e4dd4dbe084",
     "grade": false,
     "grade_id": "cell-c3d9156722937c07",
     "locked": true,
     "schema_version": 1,
     "solution": false
    }
   },
   "source": [
    "## Loading the MNIST dataset in PyTorch and torchvision\n",
    "\n",
    "The `torchvision` library provides a convenience method for loading the MNIST dataset. The dataset can be downloaded automatically the first time this function is called and is stored in a location of your choice. This is very handy for developing and testing deep learning models.\n",
    "\n",
    "To demonstrate how easy it is to load the MNIST dataset, we will first write a little script to download and visualize the first 4 images in the training dataset. __Read through the following code and then go-ahead and run it__."
   ]
  },
  {
   "cell_type": "code",
   "execution_count": 8,
   "metadata": {},
   "outputs": [
    {
     "data": {
      "image/png": "[encoded data removed]",
      "image/svg+xml": "<?xml version=\"1.0\" encoding=\"utf-8\" standalone=\"no\"?>\r\n<!DOCTYPE svg PUBLIC \"-//W3C//DTD SVG 1.1//EN\"\r\n  \"http://www.w3.org/Graphics/SVG/1.1/DTD/svg11.dtd\">\r\n<!-- Created with matplotlib (https://matplotlib.org/) -->\r\n<svg height=\"250.552409pt\" version=\"1.1\" viewBox=\"0 0 315.579545 250.552409\" width=\"315.579545pt\" xmlns=\"http://www.w3.org/2000/svg\" xmlns:xlink=\"http://www.w3.org/1999/xlink\">\r\n <defs>\r\n  <style type=\"text/css\">\r\n*{stroke-linecap:butt;stroke-linejoin:round;}\r\n  </style>\r\n </defs>\r\n <g id=\"figure_1\">\r\n  <g id=\"patch_1\">\r\n   <path d=\"M 0 250.552409 \r\nL 315.579545 250.552409 \r\nL 315.579545 0 \r\nL 0 0 \r\nz\r\n\" style=\"fill:none;\"/>\r\n  </g>\r\n  <g id=\"axes_1\">\r\n   <g id=\"patch_2\">\r\n    <path d=\"M 26.925 108.070647 \r\nL 125.761364 108.070647 \r\nL 125.761364 9.234284 \r\nL 26.925 9.234284 \r\nz\r\n\" style=\"fill:#ffffff;\"/>\r\n   </g>\r\n   <g clip-path=\"url(#p770b29e247)\">\r\n    <image height=\"99\" id=\"image27156843e0\" transform=\"scale(1 -1)translate(0 -99)\" width=\"99\" x=\"26.925\" xlink:href=\"data:image/png;base64,\r\niVBORw0KGgoAAAANSUhEUgAAAGMAAABjCAYAAACPO76VAAAABHNCSVQICAgIfAhkiAAABCZJREFUeJztnMsrdVEYxpePDNxjQCmJASEpt5JIihLlOjAwNRIjE6VM6JQYiIEMlP+ATEi5DJTIbaCUkZQh5Ra5fLPXened/TnbOdtzfM9v9Ly9rb2Xnt61tnXWWjHGmA9DIPjz0x0gn9AMIGgGEDQDCJoBBM0AgmYAQTOAoBlA0Awg4rw2DAQCKh4eHv5Su7OzMxWvrq6Kfn19VbmpqSnRt7e3oXYx6mBlAEEzgIgxHldtq6urVWwPU1VVVSqXnZ3t5RXm8fFR9MzMjMpNTEyIfnh48PR8NFgZQNAMIGgGEJ7nDDfS09NVPD8/L7qsrEzl8vLyPL1jd3dXtP0JbIwxa2trKn56evL0Dr9hZQBBM4CIyDDlRmZmpoqLiopEz87OqlxhYaGnd+zt7al4cnJS9PLyssq9v797ekckYGUAQTOAoBlA+D5nuJGVlaXi3t5e0QMDAyqXm5vr6R0HBwcqHh8fF72ysuLpmeGClQEEzQACaphyo6CgQMX2sNXZ2alyzuHOjbe3N9EbGxsq19LSEkoXvw0rAwiaAQTNACJq5gw3SktLVdzd3a3iyspK0U1NTUGfc3p6quLy8nLRfiybsDKAoBlA/IphKhSen59VHBf3uXXMuW+rublZ9NbWVkT7ZQwrAwqaAQTNAMLzXltk0tLSVNzW1iY6NjY2aLudnR0V+zFP2LAygKAZQPyKYaqkpETF09PTKm5sbAza1t7TZf/Q9BOwMoCgGUDQDCCids7o6OgQvbi4qHLJyclB242MjKh4aWlJ9PX1dZh65w1WBhA0AwiaAUTULKHn5+er+PDwULTzWPLm5qaK7Y1rc3NzKvfxgfPnszKAoBlAQH/aJiYmil5YWFC5pKQk0T09PSq3vr4e2Y5FCFYGEDQDCJoBBPScMTY2Jrq+vl7ltre3RTs3LEcrrAwgaAYQPz5MpaSkiL67u1O51NTUoO3sT12k48PfgZUBBM0AgmYA4fuqbXt7u4pbW1tFHx0dqZzz9jWb4+Nj0XV1dSrnvJmtuLhY9NDQkMr19/f/o8f+wcoAgmYA4cswZV8G5rzxxuvlXzbOZzp/bGpoaBD98vKicm6fz37DygCCZgBBM4DwZTkkJydHdEZGRtif77zw2A37DJ8xxvT19Ym+v78P2s65we3m5kb0+fn5l9/vBisDCJoBhO//gdtDljHGxMfHi66pqVG52tpa0c6jYV1dXWHpz9XVlej9/X2Vs/fzOv+rPzk5ET06OqpyXo+fsTKAoBlA0AwgfP+l7/LyMmju4uJCxfbZCeeR4VCWMexb2xISElTOvuFtcHBQ5eylE/vySmOMqaioEO3cLME54xdAM4CImiMB/wOsDCBoBhA0AwiaAQTNAIJmAEEzgKAZQNAMIGgGEDQDCJoBBM0AgmYAQTOAoBlA0Awg/gLmj+j1TIJBrQAAAABJRU5ErkJggg==\" y=\"-9.070647\"/>\r\n   </g>\r\n   <g id=\"matplotlib.axis_1\">\r\n    <g id=\"xtick_1\">\r\n     <g id=\"line2d_1\">\r\n      <defs>\r\n       <path d=\"M 0 0 \r\nL 0 3.5 \r\n\" id=\"ma7a09253cc\" style=\"stroke:#000000;stroke-width:0.8;\"/>\r\n      </defs>\r\n      <g>\r\n       <use style=\"stroke:#000000;stroke-width:0.8;\" x=\"28.689935\" xlink:href=\"#ma7a09253cc\" y=\"108.070647\"/>\r\n      </g>\r\n     </g>\r\n     <g id=\"text_1\">\r\n      <!-- 0 -->\r\n      <defs>\r\n       <path d=\"M 31.78125 66.40625 \r\nQ 24.171875 66.40625 20.328125 58.90625 \r\nQ 16.5 51.421875 16.5 36.375 \r\nQ 16.5 21.390625 20.328125 13.890625 \r\nQ 24.171875 6.390625 31.78125 6.390625 \r\nQ 39.453125 6.390625 43.28125 13.890625 \r\nQ 47.125 21.390625 47.125 36.375 \r\nQ 47.125 51.421875 43.28125 58.90625 \r\nQ 39.453125 66.40625 31.78125 66.40625 \r\nz\r\nM 31.78125 74.21875 \r\nQ 44.046875 74.21875 50.515625 64.515625 \r\nQ 56.984375 54.828125 56.984375 36.375 \r\nQ 56.984375 17.96875 50.515625 8.265625 \r\nQ 44.046875 -1.421875 31.78125 -1.421875 \r\nQ 19.53125 -1.421875 13.0625 8.265625 \r\nQ 6.59375 17.96875 6.59375 36.375 \r\nQ 6.59375 54.828125 13.0625 64.515625 \r\nQ 19.53125 74.21875 31.78125 74.21875 \r\nz\r\n\" id=\"DejaVuSans-48\"/>\r\n      </defs>\r\n      <g transform=\"translate(25.508685 122.669085)scale(0.1 -0.1)\">\r\n       <use xlink:href=\"#DejaVuSans-48\"/>\r\n      </g>\r\n     </g>\r\n    </g>\r\n    <g id=\"xtick_2\">\r\n     <g id=\"line2d_2\">\r\n      <g>\r\n       <use style=\"stroke:#000000;stroke-width:0.8;\" x=\"63.988636\" xlink:href=\"#ma7a09253cc\" y=\"108.070647\"/>\r\n      </g>\r\n     </g>\r\n     <g id=\"text_2\">\r\n      <!-- 10 -->\r\n      <defs>\r\n       <path d=\"M 12.40625 8.296875 \r\nL 28.515625 8.296875 \r\nL 28.515625 63.921875 \r\nL 10.984375 60.40625 \r\nL 10.984375 69.390625 \r\nL 28.421875 72.90625 \r\nL 38.28125 72.90625 \r\nL 38.28125 8.296875 \r\nL 54.390625 8.296875 \r\nL 54.390625 0 \r\nL 12.40625 0 \r\nz\r\n\" id=\"DejaVuSans-49\"/>\r\n      </defs>\r\n      <g transform=\"translate(57.626136 122.669085)scale(0.1 -0.1)\">\r\n       <use xlink:href=\"#DejaVuSans-49\"/>\r\n       <use x=\"63.623047\" xlink:href=\"#DejaVuSans-48\"/>\r\n      </g>\r\n     </g>\r\n    </g>\r\n    <g id=\"xtick_3\">\r\n     <g id=\"line2d_3\">\r\n      <g>\r\n       <use style=\"stroke:#000000;stroke-width:0.8;\" x=\"99.287338\" xlink:href=\"#ma7a09253cc\" y=\"108.070647\"/>\r\n      </g>\r\n     </g>\r\n     <g id=\"text_3\">\r\n      <!-- 20 -->\r\n      <defs>\r\n       <path d=\"M 19.1875 8.296875 \r\nL 53.609375 8.296875 \r\nL 53.609375 0 \r\nL 7.328125 0 \r\nL 7.328125 8.296875 \r\nQ 12.9375 14.109375 22.625 23.890625 \r\nQ 32.328125 33.6875 34.8125 36.53125 \r\nQ 39.546875 41.84375 41.421875 45.53125 \r\nQ 43.3125 49.21875 43.3125 52.78125 \r\nQ 43.3125 58.59375 39.234375 62.25 \r\nQ 35.15625 65.921875 28.609375 65.921875 \r\nQ 23.96875 65.921875 18.8125 64.3125 \r\nQ 13.671875 62.703125 7.8125 59.421875 \r\nL 7.8125 69.390625 \r\nQ 13.765625 71.78125 18.9375 73 \r\nQ 24.125 74.21875 28.421875 74.21875 \r\nQ 39.75 74.21875 46.484375 68.546875 \r\nQ 53.21875 62.890625 53.21875 53.421875 \r\nQ 53.21875 48.921875 51.53125 44.890625 \r\nQ 49.859375 40.875 45.40625 35.40625 \r\nQ 44.1875 33.984375 37.640625 27.21875 \r\nQ 31.109375 20.453125 19.1875 8.296875 \r\nz\r\n\" id=\"DejaVuSans-50\"/>\r\n      </defs>\r\n      <g transform=\"translate(92.924838 122.669085)scale(0.1 -0.1)\">\r\n       <use xlink:href=\"#DejaVuSans-50\"/>\r\n       <use x=\"63.623047\" xlink:href=\"#DejaVuSans-48\"/>\r\n      </g>\r\n     </g>\r\n    </g>\r\n   </g>\r\n   <g id=\"matplotlib.axis_2\">\r\n    <g id=\"ytick_1\">\r\n     <g id=\"line2d_4\">\r\n      <defs>\r\n       <path d=\"M 0 0 \r\nL -3.5 0 \r\n\" id=\"m8c405c9d54\" style=\"stroke:#000000;stroke-width:0.8;\"/>\r\n      </defs>\r\n      <g>\r\n       <use style=\"stroke:#000000;stroke-width:0.8;\" x=\"26.925\" xlink:href=\"#m8c405c9d54\" y=\"10.999219\"/>\r\n      </g>\r\n     </g>\r\n     <g id=\"text_4\">\r\n      <!-- 0 -->\r\n      <g transform=\"translate(13.5625 14.798437)scale(0.1 -0.1)\">\r\n       <use xlink:href=\"#DejaVuSans-48\"/>\r\n      </g>\r\n     </g>\r\n    </g>\r\n    <g id=\"ytick_2\">\r\n     <g id=\"line2d_5\">\r\n      <g>\r\n       <use style=\"stroke:#000000;stroke-width:0.8;\" x=\"26.925\" xlink:href=\"#m8c405c9d54\" y=\"46.29792\"/>\r\n      </g>\r\n     </g>\r\n     <g id=\"text_5\">\r\n      <!-- 10 -->\r\n      <g transform=\"translate(7.2 50.097139)scale(0.1 -0.1)\">\r\n       <use xlink:href=\"#DejaVuSans-49\"/>\r\n       <use x=\"63.623047\" xlink:href=\"#DejaVuSans-48\"/>\r\n      </g>\r\n     </g>\r\n    </g>\r\n    <g id=\"ytick_3\">\r\n     <g id=\"line2d_6\">\r\n      <g>\r\n       <use style=\"stroke:#000000;stroke-width:0.8;\" x=\"26.925\" xlink:href=\"#m8c405c9d54\" y=\"81.596621\"/>\r\n      </g>\r\n     </g>\r\n     <g id=\"text_6\">\r\n      <!-- 20 -->\r\n      <g transform=\"translate(7.2 85.39584)scale(0.1 -0.1)\">\r\n       <use xlink:href=\"#DejaVuSans-50\"/>\r\n       <use x=\"63.623047\" xlink:href=\"#DejaVuSans-48\"/>\r\n      </g>\r\n     </g>\r\n    </g>\r\n   </g>\r\n   <g id=\"patch_3\">\r\n    <path d=\"M 26.925 108.070647 \r\nL 26.925 9.234284 \r\n\" style=\"fill:none;stroke:#000000;stroke-linecap:square;stroke-linejoin:miter;stroke-width:0.8;\"/>\r\n   </g>\r\n   <g id=\"patch_4\">\r\n    <path d=\"M 125.761364 108.070647 \r\nL 125.761364 9.234284 \r\n\" style=\"fill:none;stroke:#000000;stroke-linecap:square;stroke-linejoin:miter;stroke-width:0.8;\"/>\r\n   </g>\r\n   <g id=\"patch_5\">\r\n    <path d=\"M 26.925 108.070647 \r\nL 125.761364 108.070647 \r\n\" style=\"fill:none;stroke:#000000;stroke-linecap:square;stroke-linejoin:miter;stroke-width:0.8;\"/>\r\n   </g>\r\n   <g id=\"patch_6\">\r\n    <path d=\"M 26.925 9.234284 \r\nL 125.761364 9.234284 \r\n\" style=\"fill:none;stroke:#000000;stroke-linecap:square;stroke-linejoin:miter;stroke-width:0.8;\"/>\r\n   </g>\r\n  </g>\r\n  <g id=\"axes_2\">\r\n   <g id=\"patch_7\">\r\n    <path d=\"M 209.543182 108.070647 \r\nL 308.379545 108.070647 \r\nL 308.379545 9.234284 \r\nL 209.543182 9.234284 \r\nz\r\n\" style=\"fill:#ffffff;\"/>\r\n   </g>\r\n   <g clip-path=\"url(#p5b87c0557f)\">\r\n    <image height=\"99\" id=\"imagef8cbe34cea\" transform=\"scale(1 -1)translate(0 -99)\" width=\"99\" x=\"209.543182\" xlink:href=\"data:image/png;base64,\r\niVBORw0KGgoAAAANSUhEUgAAAGMAAABjCAYAAACPO76VAAAABHNCSVQICAgIfAhkiAAABI5JREFUeJztnEsovV0Uxvf5EkkxMCIDBqYuySW5lKHM5FoMmbjkWgojQ4UMpGQg5V4kJEXKbeBSxkbukoFLCuGbrf9a++ucju973/es//97fqNn9XTO3jytd79n7/ccnzHm2wAV/BXqCYBfIAxFIAxFIAxFIAxFIAxFIAxFIAxFIAxFIAxFIAxFIAxFIAxFhHkxSFxcHOn6+nrhdXd3k/b5fML7/v61oTw0NCS8kZER0mdnZ47MM9SgMxSBMBSBMBThMy6c9CUkJIh6bm6OdGZmpv/JBFgzbB4eHkhPT08Lr7m5Oah5agOdoQiEoQhXLlNlZWWinpqaCup1d3d3on56eiKdnJwc9Pj7+/ui3traIt3b2xv0+3gNOkMRCEMRCEMRnmyHcD4/P0U9OjpKenx8XHj89jUnJ0d4NTU1pFNTU4WXm5sran6rba89fJvl4OAg4NzdBp2hCIShCFcuU/YnaV7f3t4Kr6mpKaj3vLi4EDX/VG/T0tIi6p6eHtLl5eXC+/j4II3LFCAQhiIQhiJcWTPs3VZeLy4uujGkYGBgQNR8O6Sjo0N41dXVpKOiooRXWlrqwuz8g85QBMJQhOe7tvYtalJSktPDByQiIkLU/IGIrq4u4V1dXZGuq6sT3vr6uuNzQ2coAmEoAmEowvNdW/uazR9wu7m5cX38t7c3Uff19ZEOC5P/js7OTtJtbW3C293dJf3y8uLI3NAZikAYinDl1rakpETUs7OzpMPDw4XX3t5OenBw0Omp/Cf4QZi9q8Cf9W1sbHRkPHSGIhCGIhCGIlxZM2z29vZIZ2dnC297e5t0UVGR21P5EXyd+Pr6Eh7/m/Lz8x0ZD52hCIShCIShCE+2Q1pbW0nv7OwIr6CggHRhYaHw+HoSCvg6Eei7Ik6BzlAEwlCEJ5epk5MT0qurq8IrLi4mvbS0JLyKigrSh4eHwouMjCR9eXnpyDxDDTpDEQhDEQhDEZ6sGfx0jW+ZG2PM8/Mz6crKSuFNTEyQtk8B+Qnd/Py8I/P8Cefn546/JzpDEQhDEZ7s2gYiLS2N9ObmpvCio6P9vm5tbY10VVWV8OxP8ikpKaTHxsaEd39/73cMftL3+vrqd4zj42O/7/ET0BmKQBiKQBiKCPmawcnIyBD1xsYG6ZiYGL+vs3d3l5eXRd3f30/6+vpaePxJlsTEROHx75LMzMwIz74NdwJ0hiIQhiI8f9Y2EEdHR6JeWVkhbd++cvgBlTH/vLXlB0P82V5jjElPTyfNf3XBGBwu/a9BGIpAGIpQtWbY8B8k5r++Y4wxk5OTpO0fqAyEvXXBv1thrzWc09PToMf4t6AzFIEwFKHqE/hPyMrKIr2wsCC8+Ph4UfPbUn6YZYwx7+/vpGNjY4WXl5dH2r688dc5BTpDEQhDEQhDEb/tmsHhp4XG/OzEkPP4+Chqew1xG3SGIhCGIv6Iy5SNfUjV0NBAura2Vnj82azh4WHhOfWgQbCgMxSBMBSBMBTxR64ZvyvoDEUgDEUgDEUgDEUgDEUgDEUgDEUgDEUgDEUgDEUgDEUgDEUgDEX8DfnOOGOy29jRAAAAAElFTkSuQmCC\" y=\"-9.070647\"/>\r\n   </g>\r\n   <g id=\"matplotlib.axis_3\">\r\n    <g id=\"xtick_4\">\r\n     <g id=\"line2d_7\">\r\n      <g>\r\n       <use style=\"stroke:#000000;stroke-width:0.8;\" x=\"211.308117\" xlink:href=\"#ma7a09253cc\" y=\"108.070647\"/>\r\n      </g>\r\n     </g>\r\n     <g id=\"text_7\">\r\n      <!-- 0 -->\r\n      <g transform=\"translate(208.126867 122.669085)scale(0.1 -0.1)\">\r\n       <use xlink:href=\"#DejaVuSans-48\"/>\r\n      </g>\r\n     </g>\r\n    </g>\r\n    <g id=\"xtick_5\">\r\n     <g id=\"line2d_8\">\r\n      <g>\r\n       <use style=\"stroke:#000000;stroke-width:0.8;\" x=\"246.606818\" xlink:href=\"#ma7a09253cc\" y=\"108.070647\"/>\r\n      </g>\r\n     </g>\r\n     <g id=\"text_8\">\r\n      <!-- 10 -->\r\n      <g transform=\"translate(240.244318 122.669085)scale(0.1 -0.1)\">\r\n       <use xlink:href=\"#DejaVuSans-49\"/>\r\n       <use x=\"63.623047\" xlink:href=\"#DejaVuSans-48\"/>\r\n      </g>\r\n     </g>\r\n    </g>\r\n    <g id=\"xtick_6\">\r\n     <g id=\"line2d_9\">\r\n      <g>\r\n       <use style=\"stroke:#000000;stroke-width:0.8;\" x=\"281.905519\" xlink:href=\"#ma7a09253cc\" y=\"108.070647\"/>\r\n      </g>\r\n     </g>\r\n     <g id=\"text_9\">\r\n      <!-- 20 -->\r\n      <g transform=\"translate(275.543019 122.669085)scale(0.1 -0.1)\">\r\n       <use xlink:href=\"#DejaVuSans-50\"/>\r\n       <use x=\"63.623047\" xlink:href=\"#DejaVuSans-48\"/>\r\n      </g>\r\n     </g>\r\n    </g>\r\n   </g>\r\n   <g id=\"matplotlib.axis_4\">\r\n    <g id=\"ytick_4\">\r\n     <g id=\"line2d_10\">\r\n      <g>\r\n       <use style=\"stroke:#000000;stroke-width:0.8;\" x=\"209.543182\" xlink:href=\"#m8c405c9d54\" y=\"10.999219\"/>\r\n      </g>\r\n     </g>\r\n     <g id=\"text_10\">\r\n      <!-- 0 -->\r\n      <g transform=\"translate(196.180682 14.798437)scale(0.1 -0.1)\">\r\n       <use xlink:href=\"#DejaVuSans-48\"/>\r\n      </g>\r\n     </g>\r\n    </g>\r\n    <g id=\"ytick_5\">\r\n     <g id=\"line2d_11\">\r\n      <g>\r\n       <use style=\"stroke:#000000;stroke-width:0.8;\" x=\"209.543182\" xlink:href=\"#m8c405c9d54\" y=\"46.29792\"/>\r\n      </g>\r\n     </g>\r\n     <g id=\"text_11\">\r\n      <!-- 10 -->\r\n      <g transform=\"translate(189.818182 50.097139)scale(0.1 -0.1)\">\r\n       <use xlink:href=\"#DejaVuSans-49\"/>\r\n       <use x=\"63.623047\" xlink:href=\"#DejaVuSans-48\"/>\r\n      </g>\r\n     </g>\r\n    </g>\r\n    <g id=\"ytick_6\">\r\n     <g id=\"line2d_12\">\r\n      <g>\r\n       <use style=\"stroke:#000000;stroke-width:0.8;\" x=\"209.543182\" xlink:href=\"#m8c405c9d54\" y=\"81.596621\"/>\r\n      </g>\r\n     </g>\r\n     <g id=\"text_12\">\r\n      <!-- 20 -->\r\n      <g transform=\"translate(189.818182 85.39584)scale(0.1 -0.1)\">\r\n       <use xlink:href=\"#DejaVuSans-50\"/>\r\n       <use x=\"63.623047\" xlink:href=\"#DejaVuSans-48\"/>\r\n      </g>\r\n     </g>\r\n    </g>\r\n   </g>\r\n   <g id=\"patch_8\">\r\n    <path d=\"M 209.543182 108.070647 \r\nL 209.543182 9.234284 \r\n\" style=\"fill:none;stroke:#000000;stroke-linecap:square;stroke-linejoin:miter;stroke-width:0.8;\"/>\r\n   </g>\r\n   <g id=\"patch_9\">\r\n    <path d=\"M 308.379545 108.070647 \r\nL 308.379545 9.234284 \r\n\" style=\"fill:none;stroke:#000000;stroke-linecap:square;stroke-linejoin:miter;stroke-width:0.8;\"/>\r\n   </g>\r\n   <g id=\"patch_10\">\r\n    <path d=\"M 209.543182 108.070647 \r\nL 308.379545 108.070647 \r\n\" style=\"fill:none;stroke:#000000;stroke-linecap:square;stroke-linejoin:miter;stroke-width:0.8;\"/>\r\n   </g>\r\n   <g id=\"patch_11\">\r\n    <path d=\"M 209.543182 9.234284 \r\nL 308.379545 9.234284 \r\n\" style=\"fill:none;stroke:#000000;stroke-linecap:square;stroke-linejoin:miter;stroke-width:0.8;\"/>\r\n   </g>\r\n  </g>\r\n  <g id=\"axes_3\">\r\n   <g id=\"patch_12\">\r\n    <path d=\"M 26.925 226.674284 \r\nL 125.761364 226.674284 \r\nL 125.761364 127.83792 \r\nL 26.925 127.83792 \r\nz\r\n\" style=\"fill:#ffffff;\"/>\r\n   </g>\r\n   <g clip-path=\"url(#p2c56338cee)\">\r\n    <image height=\"99\" id=\"imagee8801d995e\" transform=\"scale(1 -1)translate(0 -99)\" width=\"99\" x=\"26.925\" xlink:href=\"data:image/png;base64,\r\niVBORw0KGgoAAAANSUhEUgAAAGMAAABjCAYAAACPO76VAAAABHNCSVQICAgIfAhkiAAAA4NJREFUeJztnL9L62AUhr8W8cdQwUlQRxVB0EEcdFbQ0VkHKaLi5FBw6r9RBKGD3eziUjdBXVTsoBZq20FBBeki2qFdRO92zMm1lzZNmvea95nO4WBy5PF8X5rGhIwxX4ZAEPa7AfINZQBBGUBQBhCUAQRlAEEZQFAGEJQBBGUA0eF3A+1mdXVV5clkUuK9vT1V29jYaEdLAicDCMoAInDL1OLiospDoZBPnfwNJwMIygCCMoAI3J5h5+sL54tOTgYQlAFE4JcpK+fn576en5MBBGUAQRlABH7PsN4O+fz89LETTgYUlAFE4Jcp6yfwUqnkYyecDCgoAwjKAIIygKAMICgDiMBf2lpZWlpS+cXFRVvPz8kAgjKAoAwgQsbhvx7v7OyofHZ2tuVmDg8PVX53dyexW+v3+vq6ynd3dyW+v79XteHhYVfO2SicDCAoA4imlqlEIiGx/XH5t7c3iR8fHxtuYGJi4rsZ23OvHx8fElerVVXL5/MSX15eqlo2m1X56empxOVyWdWen58l7uvrU7XOzs5/9u42nAwgKAMIygCiqdshPT09EtvX983NTYnT6XTDx5ycnKx7zLm5OYmHhoZUzbqeR6NRVVtbW1N5rVaT2L6/dHd3SxwO67/NsbExiQuFws+/gItwMoCgDCAoAwjXbqG/vr46+rmbm5u6tevr64aOsbW1pfLe3l6VLywsSLyysqJqXV1dEtv3jKmpKYm5ZwQMygDCtWVqenpa4uPjY7cO64hKpaLyg4ODH2NjjEmlUhIvLy+rWjwelziTyaia9faPW3AygKAMICgDiKb2jGKxWLc2Pj7ecjN+EIvFJLbefjHGmNHRUYkjkYiqcc/45VAGEE0tU0dHRxJbL/v+Z6zf/D08PKhaf3+/xIODg6r29PTkei+cDCAoAwjKAKKpPeP29lZi+1MWv4H39/e6tfn5eZV78VA0JwMIygDC8V1bv98m4AX2Bxmsl68jIyOen5+TAQRlAEEZQDjeM/b391XejjXVa15eXlRufTf6zMyMqnnxgBsnAwjKAMLxMnVycqLyXC7Xai++Y79ct97FHRgYUDUv3ofLyQCCMoCgDCAc7xlnZ2du9gHJ1dWVxNvb256fj5MBBGUA4fgNCcR9OBlAUAYQlAEEZQBBGUBQBhCUAQRlAEEZQFAGEJQBBGUAQRlAUAYQlAEEZQBBGUD8AYD6wEBzC9lhAAAAAElFTkSuQmCC\" y=\"-127.674284\"/>\r\n   </g>\r\n   <g id=\"matplotlib.axis_5\">\r\n    <g id=\"xtick_7\">\r\n     <g id=\"line2d_13\">\r\n      <g>\r\n       <use style=\"stroke:#000000;stroke-width:0.8;\" x=\"28.689935\" xlink:href=\"#ma7a09253cc\" y=\"226.674284\"/>\r\n      </g>\r\n     </g>\r\n     <g id=\"text_13\">\r\n      <!-- 0 -->\r\n      <g transform=\"translate(25.508685 241.272721)scale(0.1 -0.1)\">\r\n       <use xlink:href=\"#DejaVuSans-48\"/>\r\n      </g>\r\n     </g>\r\n    </g>\r\n    <g id=\"xtick_8\">\r\n     <g id=\"line2d_14\">\r\n      <g>\r\n       <use style=\"stroke:#000000;stroke-width:0.8;\" x=\"63.988636\" xlink:href=\"#ma7a09253cc\" y=\"226.674284\"/>\r\n      </g>\r\n     </g>\r\n     <g id=\"text_14\">\r\n      <!-- 10 -->\r\n      <g transform=\"translate(57.626136 241.272721)scale(0.1 -0.1)\">\r\n       <use xlink:href=\"#DejaVuSans-49\"/>\r\n       <use x=\"63.623047\" xlink:href=\"#DejaVuSans-48\"/>\r\n      </g>\r\n     </g>\r\n    </g>\r\n    <g id=\"xtick_9\">\r\n     <g id=\"line2d_15\">\r\n      <g>\r\n       <use style=\"stroke:#000000;stroke-width:0.8;\" x=\"99.287338\" xlink:href=\"#ma7a09253cc\" y=\"226.674284\"/>\r\n      </g>\r\n     </g>\r\n     <g id=\"text_15\">\r\n      <!-- 20 -->\r\n      <g transform=\"translate(92.924838 241.272721)scale(0.1 -0.1)\">\r\n       <use xlink:href=\"#DejaVuSans-50\"/>\r\n       <use x=\"63.623047\" xlink:href=\"#DejaVuSans-48\"/>\r\n      </g>\r\n     </g>\r\n    </g>\r\n   </g>\r\n   <g id=\"matplotlib.axis_6\">\r\n    <g id=\"ytick_7\">\r\n     <g id=\"line2d_16\">\r\n      <g>\r\n       <use style=\"stroke:#000000;stroke-width:0.8;\" x=\"26.925\" xlink:href=\"#m8c405c9d54\" y=\"129.602855\"/>\r\n      </g>\r\n     </g>\r\n     <g id=\"text_16\">\r\n      <!-- 0 -->\r\n      <g transform=\"translate(13.5625 133.402074)scale(0.1 -0.1)\">\r\n       <use xlink:href=\"#DejaVuSans-48\"/>\r\n      </g>\r\n     </g>\r\n    </g>\r\n    <g id=\"ytick_8\">\r\n     <g id=\"line2d_17\">\r\n      <g>\r\n       <use style=\"stroke:#000000;stroke-width:0.8;\" x=\"26.925\" xlink:href=\"#m8c405c9d54\" y=\"164.901556\"/>\r\n      </g>\r\n     </g>\r\n     <g id=\"text_17\">\r\n      <!-- 10 -->\r\n      <g transform=\"translate(7.2 168.700775)scale(0.1 -0.1)\">\r\n       <use xlink:href=\"#DejaVuSans-49\"/>\r\n       <use x=\"63.623047\" xlink:href=\"#DejaVuSans-48\"/>\r\n      </g>\r\n     </g>\r\n    </g>\r\n    <g id=\"ytick_9\">\r\n     <g id=\"line2d_18\">\r\n      <g>\r\n       <use style=\"stroke:#000000;stroke-width:0.8;\" x=\"26.925\" xlink:href=\"#m8c405c9d54\" y=\"200.200258\"/>\r\n      </g>\r\n     </g>\r\n     <g id=\"text_18\">\r\n      <!-- 20 -->\r\n      <g transform=\"translate(7.2 203.999476)scale(0.1 -0.1)\">\r\n       <use xlink:href=\"#DejaVuSans-50\"/>\r\n       <use x=\"63.623047\" xlink:href=\"#DejaVuSans-48\"/>\r\n      </g>\r\n     </g>\r\n    </g>\r\n   </g>\r\n   <g id=\"patch_13\">\r\n    <path d=\"M 26.925 226.674284 \r\nL 26.925 127.83792 \r\n\" style=\"fill:none;stroke:#000000;stroke-linecap:square;stroke-linejoin:miter;stroke-width:0.8;\"/>\r\n   </g>\r\n   <g id=\"patch_14\">\r\n    <path d=\"M 125.761364 226.674284 \r\nL 125.761364 127.83792 \r\n\" style=\"fill:none;stroke:#000000;stroke-linecap:square;stroke-linejoin:miter;stroke-width:0.8;\"/>\r\n   </g>\r\n   <g id=\"patch_15\">\r\n    <path d=\"M 26.925 226.674284 \r\nL 125.761364 226.674284 \r\n\" style=\"fill:none;stroke:#000000;stroke-linecap:square;stroke-linejoin:miter;stroke-width:0.8;\"/>\r\n   </g>\r\n   <g id=\"patch_16\">\r\n    <path d=\"M 26.925 127.83792 \r\nL 125.761364 127.83792 \r\n\" style=\"fill:none;stroke:#000000;stroke-linecap:square;stroke-linejoin:miter;stroke-width:0.8;\"/>\r\n   </g>\r\n  </g>\r\n  <g id=\"axes_4\">\r\n   <g id=\"patch_17\">\r\n    <path d=\"M 209.543182 226.674284 \r\nL 308.379545 226.674284 \r\nL 308.379545 127.83792 \r\nL 209.543182 127.83792 \r\nz\r\n\" style=\"fill:#ffffff;\"/>\r\n   </g>\r\n   <g clip-path=\"url(#p79dcd10ba6)\">\r\n    <image height=\"99\" id=\"image38fc4c1217\" transform=\"scale(1 -1)translate(0 -99)\" width=\"99\" x=\"209.543182\" xlink:href=\"data:image/png;base64,\r\niVBORw0KGgoAAAANSUhEUgAAAGMAAABjCAYAAACPO76VAAAABHNCSVQICAgIfAhkiAAAA0JJREFUeJztnD1rIlEUhq+yRcBCBCFBg4hYpEhhLWnENIKdop34VeRHBCRJmy6FRQrFRi0srFMoqfITtAgxXZIqQgob3e3u3jOLwQ0z4xvzPtU5HIcceHLu9ePOeJRSvxWBwLvtBshfKAMIygCCMoCgDCAoAwjKAIIygKAMICgDiF9u/8GDgwOR9/t9HZ+cnIja09OTjuPxuLONAcDJAIIygHB9mTo6OhJ5Mpl0uwVYOBlAUAYQlAEEZQBBGUBQBhCuv7V9f38X+cvLi45DoZCohcNhHV9fX4va+fm5jheLhZ0tbg1OBhCUAQRlAOFRWz7E1mq1dFwul0VttVqtvS4Wi+n4+fnZ9r62AScDCMoAYuvLlMlyuRT5Z8tUqVTScbfbdawnN+FkAEEZQFAGEFB7xtvbm8gDgcDa1z48POg4k8mI2sfHh72NuQQnAwjKAAJqmUokEiIfDAY6jkQia68bDociz+fz9jbmEpwMICgDCMoAAmrPsNJsNnVcr9c3vu74+Fjk0+nUtp6chJMBBGUAAb1MRaNRHT8+Pm58XafTEXmlUrGrJUfhZABBGUBQBhCuH2L7H2azmY5zuZyotdttHft8PlEzDysopdT+/r6OX19f7WvQZjgZQFAGEJQBBPTnjM84OzvT8c3Njah5vfJ/7O7uTsfFYlHU5vO5A919DU4GEJQBxLddpsyvSsxfBJX69xdD8zDc1dWVqF1eXtrf3BfhZABBGUBQBhDfds8wCQaDIrd+5WHuGdZ7CguFgo5Ho5ED3W0OJwMIygBiJ5YpK7e3tyKvVqtrXzsej3WcTqedamkjOBlAUAYQlAHETu4Z1gdPmvf8WR9YaVKr1URuPWXiNJwMICgDiJ1cpqycnp7quNfriZrf79fxZDIRtWw2q2Prp3onnuTDyQCCMoCgDCB+xJ5h0mg0RG4+0c2KebAhlUqJ2v39vb2NKU4GFJQBBPRZWyewPijMfIu6t7fndjsCTgYQlAEEZQDx4/YM874OpZQ6PDzU8cXFhaiZb209Ho+jfSnFyYCCMoD4cZ/AkeFkAEEZQFAGEJQBBGUAQRlAUAYQlAEEZQBBGUBQBhCUAQRlAEEZQFAGEJQBBGUA8QebyZ5lFQB1mgAAAABJRU5ErkJggg==\" y=\"-127.674284\"/>\r\n   </g>\r\n   <g id=\"matplotlib.axis_7\">\r\n    <g id=\"xtick_10\">\r\n     <g id=\"line2d_19\">\r\n      <g>\r\n       <use style=\"stroke:#000000;stroke-width:0.8;\" x=\"211.308117\" xlink:href=\"#ma7a09253cc\" y=\"226.674284\"/>\r\n      </g>\r\n     </g>\r\n     <g id=\"text_19\">\r\n      <!-- 0 -->\r\n      <g transform=\"translate(208.126867 241.272721)scale(0.1 -0.1)\">\r\n       <use xlink:href=\"#DejaVuSans-48\"/>\r\n      </g>\r\n     </g>\r\n    </g>\r\n    <g id=\"xtick_11\">\r\n     <g id=\"line2d_20\">\r\n      <g>\r\n       <use style=\"stroke:#000000;stroke-width:0.8;\" x=\"246.606818\" xlink:href=\"#ma7a09253cc\" y=\"226.674284\"/>\r\n      </g>\r\n     </g>\r\n     <g id=\"text_20\">\r\n      <!-- 10 -->\r\n      <g transform=\"translate(240.244318 241.272721)scale(0.1 -0.1)\">\r\n       <use xlink:href=\"#DejaVuSans-49\"/>\r\n       <use x=\"63.623047\" xlink:href=\"#DejaVuSans-48\"/>\r\n      </g>\r\n     </g>\r\n    </g>\r\n    <g id=\"xtick_12\">\r\n     <g id=\"line2d_21\">\r\n      <g>\r\n       <use style=\"stroke:#000000;stroke-width:0.8;\" x=\"281.905519\" xlink:href=\"#ma7a09253cc\" y=\"226.674284\"/>\r\n      </g>\r\n     </g>\r\n     <g id=\"text_21\">\r\n      <!-- 20 -->\r\n      <g transform=\"translate(275.543019 241.272721)scale(0.1 -0.1)\">\r\n       <use xlink:href=\"#DejaVuSans-50\"/>\r\n       <use x=\"63.623047\" xlink:href=\"#DejaVuSans-48\"/>\r\n      </g>\r\n     </g>\r\n    </g>\r\n   </g>\r\n   <g id=\"matplotlib.axis_8\">\r\n    <g id=\"ytick_10\">\r\n     <g id=\"line2d_22\">\r\n      <g>\r\n       <use style=\"stroke:#000000;stroke-width:0.8;\" x=\"209.543182\" xlink:href=\"#m8c405c9d54\" y=\"129.602855\"/>\r\n      </g>\r\n     </g>\r\n     <g id=\"text_22\">\r\n      <!-- 0 -->\r\n      <g transform=\"translate(196.180682 133.402074)scale(0.1 -0.1)\">\r\n       <use xlink:href=\"#DejaVuSans-48\"/>\r\n      </g>\r\n     </g>\r\n    </g>\r\n    <g id=\"ytick_11\">\r\n     <g id=\"line2d_23\">\r\n      <g>\r\n       <use style=\"stroke:#000000;stroke-width:0.8;\" x=\"209.543182\" xlink:href=\"#m8c405c9d54\" y=\"164.901556\"/>\r\n      </g>\r\n     </g>\r\n     <g id=\"text_23\">\r\n      <!-- 10 -->\r\n      <g transform=\"translate(189.818182 168.700775)scale(0.1 -0.1)\">\r\n       <use xlink:href=\"#DejaVuSans-49\"/>\r\n       <use x=\"63.623047\" xlink:href=\"#DejaVuSans-48\"/>\r\n      </g>\r\n     </g>\r\n    </g>\r\n    <g id=\"ytick_12\">\r\n     <g id=\"line2d_24\">\r\n      <g>\r\n       <use style=\"stroke:#000000;stroke-width:0.8;\" x=\"209.543182\" xlink:href=\"#m8c405c9d54\" y=\"200.200258\"/>\r\n      </g>\r\n     </g>\r\n     <g id=\"text_24\">\r\n      <!-- 20 -->\r\n      <g transform=\"translate(189.818182 203.999476)scale(0.1 -0.1)\">\r\n       <use xlink:href=\"#DejaVuSans-50\"/>\r\n       <use x=\"63.623047\" xlink:href=\"#DejaVuSans-48\"/>\r\n      </g>\r\n     </g>\r\n    </g>\r\n   </g>\r\n   <g id=\"patch_18\">\r\n    <path d=\"M 209.543182 226.674284 \r\nL 209.543182 127.83792 \r\n\" style=\"fill:none;stroke:#000000;stroke-linecap:square;stroke-linejoin:miter;stroke-width:0.8;\"/>\r\n   </g>\r\n   <g id=\"patch_19\">\r\n    <path d=\"M 308.379545 226.674284 \r\nL 308.379545 127.83792 \r\n\" style=\"fill:none;stroke:#000000;stroke-linecap:square;stroke-linejoin:miter;stroke-width:0.8;\"/>\r\n   </g>\r\n   <g id=\"patch_20\">\r\n    <path d=\"M 209.543182 226.674284 \r\nL 308.379545 226.674284 \r\n\" style=\"fill:none;stroke:#000000;stroke-linecap:square;stroke-linejoin:miter;stroke-width:0.8;\"/>\r\n   </g>\r\n   <g id=\"patch_21\">\r\n    <path d=\"M 209.543182 127.83792 \r\nL 308.379545 127.83792 \r\n\" style=\"fill:none;stroke:#000000;stroke-linecap:square;stroke-linejoin:miter;stroke-width:0.8;\"/>\r\n   </g>\r\n  </g>\r\n </g>\r\n <defs>\r\n  <clipPath id=\"p770b29e247\">\r\n   <rect height=\"98.836364\" width=\"98.836364\" x=\"26.925\" y=\"9.234284\"/>\r\n  </clipPath>\r\n  <clipPath id=\"p5b87c0557f\">\r\n   <rect height=\"98.836364\" width=\"98.836364\" x=\"209.543182\" y=\"9.234284\"/>\r\n  </clipPath>\r\n  <clipPath id=\"p2c56338cee\">\r\n   <rect height=\"98.836364\" width=\"98.836364\" x=\"26.925\" y=\"127.83792\"/>\r\n  </clipPath>\r\n  <clipPath id=\"p79dcd10ba6\">\r\n   <rect height=\"98.836364\" width=\"98.836364\" x=\"209.543182\" y=\"127.83792\"/>\r\n  </clipPath>\r\n </defs>\r\n</svg>\r\n",
      "text/plain": "<Figure size 432x288 with 4 Axes>"
     },
     "metadata": {
      "needs_background": "light"
     },
     "output_type": "display_data"
    },
    {
     "name": "stdout",
     "output_type": "stream",
     "text": "<class 'torch.Tensor'> torch.Size([60000, 28, 28])\ntensor([5, 0, 4,  ..., 5, 6, 8])\n"
    }
   ],
   "source": [
    "%matplotlib inline\n",
    "\n",
    "# Plot ad hoc mnist instances\n",
    "from torchvision.datasets import MNIST\n",
    "import matplotlib.pyplot as plt\n",
    "\n",
    "# load (download if needed) the MNIST dataset\n",
    "mnist_train = MNIST(\".\", train=True, download=True)\n",
    "\n",
    "# plot 4 images as gray scale\n",
    "plt.subplot(221)\n",
    "plt.imshow(mnist_train.train_data[0], cmap=plt.get_cmap('gray'))\n",
    "plt.subplot(222)\n",
    "plt.imshow(mnist_train.train_data[1], cmap=plt.get_cmap('gray'))\n",
    "plt.subplot(223)\n",
    "plt.imshow(mnist_train.train_data[2], cmap=plt.get_cmap('gray'))\n",
    "plt.subplot(224)\n",
    "plt.imshow(mnist_train.train_data[3], cmap=plt.get_cmap('gray'))\n",
    "\n",
    "# show the plot\n",
    "plt.show()\n",
    "print(type(mnist_train.train_data), mnist_train.train_data.shape)\n",
    "print(mnist_train.train_labels)"
   ]
  },
  {
   "cell_type": "markdown",
   "metadata": {
    "deletable": false,
    "editable": false,
    "nbgrader": {
     "checksum": "4d160453bd547c294f7136ddba25259d",
     "grade": false,
     "grade_id": "cell-3c1932790ecce2db",
     "locked": true,
     "schema_version": 1,
     "solution": false
    }
   },
   "source": [
    "You can see that downloading and loading the MNIST dataset is as easy as constructing an `MNIST` object. The `MNIST` object is a subclass of a PyTorch [`torch.utils.data.Dataset`](https://pytorch.org/docs/stable/data.html#torch.utils.data.Dataset) class, which as we'll see later can be used with a `DataLoader` object to provide streaming access to batches of data. The `MNIST` object loads all of the data in memory because it is so small; other datasets will load the data from disk (or elsewhere) on demand."
   ]
  },
  {
   "cell_type": "markdown",
   "metadata": {
    "deletable": false,
    "editable": false,
    "nbgrader": {
     "checksum": "1a0a5bf9735130040fc740154b3ab78e",
     "grade": false,
     "grade_id": "cell-6faff6def2827f4d",
     "locked": true,
     "schema_version": 1,
     "solution": false
    }
   },
   "source": [
    "__Use the following code block to explore the `mnist_train` object, then answer the questions that follow.__"
   ]
  },
  {
   "cell_type": "code",
   "execution_count": null,
   "metadata": {},
   "outputs": [],
   "source": []
  },
  {
   "cell_type": "markdown",
   "metadata": {
    "deletable": false,
    "editable": false,
    "nbgrader": {
     "checksum": "fc2246e8867cee803c56444cc6d44eef",
     "grade": false,
     "grade_id": "cell-92a830c31d4063d9",
     "locked": true,
     "schema_version": 1,
     "solution": false
    }
   },
   "source": [
    "__Answer the following questions (enter the answer in the box below each one):__\n",
    "\n",
    "__1.__ What type of object is the `mnist_train.train_data`?"
   ]
  },
  {
   "cell_type": "markdown",
   "metadata": {
    "deletable": false,
    "nbgrader": {
     "checksum": "52b518fc5a8e2f38349f85dc9a586239",
     "grade": true,
     "grade_id": "cell-a1725ed43000ce03",
     "locked": false,
     "points": 1,
     "schema_version": 1,
     "solution": true
    }
   },
   "source": [
    "TEnsor"
   ]
  },
  {
   "cell_type": "markdown",
   "metadata": {
    "deletable": false,
    "editable": false,
    "nbgrader": {
     "checksum": "6d16c4d2abd1b5b2e5a3eb4a05180306",
     "grade": false,
     "grade_id": "cell-22e7dce8272310a9",
     "locked": true,
     "schema_version": 1,
     "solution": false
    }
   },
   "source": [
    "__2.__ What is the shape of `mnist_train.train_data`?`"
   ]
  },
  {
   "cell_type": "markdown",
   "metadata": {
    "deletable": false,
    "nbgrader": {
     "checksum": "7faeaac78ea22cdaeac895d4be526656",
     "grade": true,
     "grade_id": "cell-3380a45f5755116b",
     "locked": false,
     "points": 1,
     "schema_version": 1,
     "solution": true
    }
   },
   "source": [
    "[60000, 28, 28]"
   ]
  },
  {
   "cell_type": "markdown",
   "metadata": {
    "deletable": false,
    "editable": false,
    "nbgrader": {
     "checksum": "9ef2b7a5aa6847ced7f9d54728ecc3bc",
     "grade": false,
     "grade_id": "cell-1d34af95c1204db6",
     "locked": true,
     "schema_version": 1,
     "solution": false
    }
   },
   "source": [
    "__3.__ How is the label of each image stored in `mnist_train`?"
   ]
  },
  {
   "cell_type": "markdown",
   "metadata": {
    "deletable": false,
    "nbgrader": {
     "checksum": "d6c900ecc941263d8b085929ece5194b",
     "grade": true,
     "grade_id": "cell-7df3baf74617c00c",
     "locked": false,
     "points": 2,
     "schema_version": 1,
     "solution": true
    }
   },
   "source": [
    "A tensor of numbers (digits) in mnist_train.train_labels"
   ]
  }
 ],
 "metadata": {
  "kernelspec": {
   "display_name": "Python 3",
   "language": "python",
   "name": "python3"
  },
  "language_info": {
   "codemirror_mode": {
    "name": "ipython",
    "version": 3
   },
   "file_extension": ".py",
   "mimetype": "text/x-python",
   "name": "python",
   "nbconvert_exporter": "python",
   "pygments_lexer": "ipython3",
   "version": "3.7.4-final"
  }
 },
 "nbformat": 4,
 "nbformat_minor": 2
}