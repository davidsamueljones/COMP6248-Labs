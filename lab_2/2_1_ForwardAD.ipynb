{
 "cells": [
  {
   "cell_type": "markdown",
   "metadata": {
    "deletable": false,
    "editable": false,
    "nbgrader": {
     "checksum": "f415941a3a1516f0b3e2b93249aff57d",
     "grade": false,
     "grade_id": "cell-1015fd7f8a1783c7",
     "locked": true,
     "schema_version": 1,
     "solution": false
    }
   },
   "source": [
    "# Part 1: Forward Mode Automatic Differentiation\n",
    "\n",
    "Forward mode AD can simply be implemented by defining a class to represent [dual numbers](https://en.wikipedia.org/wiki/Dual_number) which hold the value and its derivative. The following skeleton defines a dual number and implements multiplication. \n",
    "\n",
    "__Tasks:__\n",
    "\n",
    "- Addition (`__add__`) is incomplete - can you finish it? \n",
    "- Can you also implement division (`__truediv__`), subtraction (`__sub__`) and power (`__pow__`)?"
   ]
  },
  {
   "cell_type": "code",
   "execution_count": 32,
   "metadata": {},
   "outputs": [],
   "source": [
    "import math\n",
    "\n",
    "class DualNumber:\n",
    "    def __init__(self, value, dvalue):\n",
    "        self.value = value\n",
    "        self.dvalue = dvalue\n",
    "\n",
    "    def __str__(self):\n",
    "        return str(self.value) + \" + \" + str(self.dvalue) + \"ε\"\n",
    "\n",
    "    def __mul__(self, other):\n",
    "        return DualNumber(self.value * other.value,\n",
    "            self.dvalue * other.value + other.dvalue * self.value)\n",
    "    \n",
    "    def __add__(self, other):\n",
    "        return DualNumber(self.value + other.value,\n",
    "            self.dvalue + other.dvalue)\n",
    "    \n",
    "    def __truediv__(self, other):\n",
    "        value = self.value / other.value\n",
    "        dvalue = self.dvalue * other.value + ((self.dvalue * other.value - self.value * other.dvalue) / (other.value ** 2))\n",
    "        return DualNumber(value, dvalue)    \n",
    "    \n",
    "    def __sub__(self, other):\n",
    "        return DualNumber(self.value - other.value,\n",
    "            self.dvalue - other.dvalue)     \n",
    "\n",
    "    def __pow__(self, other):\n",
    "        value = self.value ** other.value     \n",
    "        dvalue = value * (other.dvalue * math.log(self.value) + self.dvalue * other.value / self.value)\n",
    "        return DualNumber(value, dvalue)\n"
   ]
  },
  {
   "cell_type": "code",
   "execution_count": 34,
   "metadata": {},
   "outputs": [
    {
     "name": "stdout",
     "output_type": "stream",
     "text": "1.0 + 0.0ε\n"
    }
   ],
   "source": [
    "# Tests\n",
    "\n",
    "dn = DualNumber(1,0) + DualNumber(1,0) / DualNumber(1,0) - DualNumber(1,0)**DualNumber(1,0)\n",
    "print(dn)"
   ]
  },
  {
   "cell_type": "markdown",
   "metadata": {
    "deletable": false,
    "editable": false,
    "nbgrader": {
     "checksum": "be03930a421d27414e745ac5839fddd3",
     "grade": false,
     "grade_id": "cell-2c8ce137dbdd2f9d",
     "locked": true,
     "schema_version": 1,
     "solution": false
    }
   },
   "source": [
    "## Implementing math functions\n",
    "\n",
    "We also need to implement some core math functions. Here's the sine function for a dual number:"
   ]
  },
  {
   "cell_type": "code",
   "execution_count": 36,
   "metadata": {},
   "outputs": [],
   "source": [
    "def sin(x):\n",
    "    return DualNumber(math.sin(x.value), math.cos(x.value)*x.dvalue)"
   ]
  },
  {
   "cell_type": "markdown",
   "metadata": {
    "deletable": false,
    "editable": false,
    "nbgrader": {
     "checksum": "54b68135467f7b83dfa9749df021c932",
     "grade": false,
     "grade_id": "cell-9b585bf1afe72cca",
     "locked": true,
     "schema_version": 1,
     "solution": false
    }
   },
   "source": [
    "__Task:__ can you implement the _cosine_ (`cos`), _tangent_ (`tan`), and _exponential_ (`exp`) functions in the code block below?"
   ]
  },
  {
   "cell_type": "code",
   "execution_count": 37,
   "metadata": {},
   "outputs": [],
   "source": [
    "# TODO: implement additional math functions on dual numbers\n",
    "\n",
    "def cos(x):\n",
    "    return DualNumber(math.cos(x.value), - math.sin(x.value)*x.dvalue)\n",
    "\n",
    "def tan(x):\n",
    "    return DualNumber(math.tan(x.value), x.dvalue / (math.cos(x.value) ** 2))\n",
    "\n",
    "def exp(x):\n",
    "    return DualNumber(math.exp(x.value), x.dvalue * math.exp(x.value))"
   ]
  },
  {
   "cell_type": "code",
   "execution_count": 38,
   "metadata": {},
   "outputs": [],
   "source": [
    "# Tests\n",
    "assert cos(DualNumber(0,0)).value == 1\n",
    "assert tan(DualNumber(0,0)).value == 0\n",
    "assert exp(DualNumber(0,0)).value == 1\n"
   ]
  },
  {
   "cell_type": "markdown",
   "metadata": {
    "deletable": false,
    "editable": false,
    "nbgrader": {
     "checksum": "5f834befbd408096b4d11ec9cd22159c",
     "grade": false,
     "grade_id": "cell-0429b8810d0cf3a3",
     "locked": true,
     "schema_version": 1,
     "solution": false
    }
   },
   "source": [
    "## Time to try it out\n",
    "\n",
    "We're now in a position to try our implementation.\n",
    "\n",
    "__Task:__ \n",
    "\n",
    "- Try running the following code to compute the value of the function $z=x\\cdot y+sin(x)$ given $x=0.5$ and $y=4.2$, together with the derivative $\\partial z/\\partial x$ at that point. "
   ]
  },
  {
   "cell_type": "code",
   "execution_count": 42,
   "metadata": {},
   "outputs": [
    {
     "name": "stdout",
     "output_type": "stream",
     "text": "2.579425538604203 + 5.077582561890373ε\n"
    }
   ],
   "source": [
    "dnx = DualNumber(0.5, 1)\n",
    "dny = DualNumber(4.2, 0)\n",
    "z = dnx * dny + sin(dnx)"
   ]
  },
  {
   "cell_type": "markdown",
   "metadata": {
    "deletable": false,
    "editable": false,
    "nbgrader": {
     "checksum": "7719838a896c466bcc58ecb273f89175",
     "grade": false,
     "grade_id": "cell-204b8d399904b523",
     "locked": true,
     "schema_version": 1,
     "solution": false
    }
   },
   "source": [
    "__Task__: Differentiate the above function with respect to $x$ and write the symbolic derivatives in the following box. Verify the result computed above is correct by plugging-in the values into your symbolic gradient expression."
   ]
  },
  {
   "cell_type": "markdown",
   "metadata": {
    "deletable": false,
    "nbgrader": {
     "checksum": "07ca9c4df262fa25d98cea6f0e36d979",
     "grade": true,
     "grade_id": "cell-1ae4d0a0801a142a",
     "locked": false,
     "points": 2,
     "schema_version": 1,
     "solution": true
    }
   },
   "source": [
    "$\\frac{\\delta z}{\\delta x}=y+cos(x)=4.2 + cos(0.5)=5.0776$ "
   ]
  },
  {
   "cell_type": "markdown",
   "metadata": {},
   "source": [
    "__Task:__ Now use the code block below to compute the derivative $\\partial z/\\partial y$ of the above expression (at the same point $x=0.5, y=4.2$ as above) and store the derivative in the variable `dzdy` (just the derivative, not the Dual Number). Verify by hand that the result is correct."
   ]
  },
  {
   "cell_type": "code",
   "execution_count": 45,
   "metadata": {},
   "outputs": [
    {
     "name": "stdout",
     "output_type": "stream",
     "text": "dz/dy: 0.5\n"
    }
   ],
   "source": [
    "dnx = DualNumber(0.5, 0)\n",
    "dny = DualNumber(4.2, 1)\n",
    "z = dnx * dny + sin(dnx)\n",
    "dzdy = z.dvalue\n",
    "print('dz/dy:', dzdy)\n",
    "assert(dzdy == dnx.value)"
   ]
  },
  {
   "cell_type": "code",
   "execution_count": 44,
   "metadata": {},
   "outputs": [],
   "source": [
    "#Tests\n",
    "assert dzdy\n",
    "assert type(dzdy) == float\n"
   ]
  },
  {
   "cell_type": "markdown",
   "metadata": {
    "deletable": false,
    "editable": false,
    "nbgrader": {
     "checksum": "827a8ca599d07c42685e571f2491cf48",
     "grade": false,
     "grade_id": "cell-8faa6c905dd61e82",
     "locked": true,
     "schema_version": 1,
     "solution": false
    }
   },
   "source": [
    "__Task:__ Finally, use the code block below to experiment and test the other math functions and methods you created."
   ]
  },
  {
   "cell_type": "code",
   "execution_count": null,
   "metadata": {},
   "outputs": [],
   "source": [
    "# YOUR CODE HERE\n",
    "raise NotImplementedError()"
   ]
  }
 ],
 "metadata": {
  "kernelspec": {
   "display_name": "Python 3",
   "language": "python",
   "name": "python3"
  },
  "language_info": {
   "codemirror_mode": {
    "name": "ipython",
    "version": 3
   },
   "file_extension": ".py",
   "mimetype": "text/x-python",
   "name": "python",
   "nbconvert_exporter": "python",
   "pygments_lexer": "ipython3",
   "version": "3.7.4-final"
  }
 },
 "nbformat": 4,
 "nbformat_minor": 2
}